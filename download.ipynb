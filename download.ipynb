{
 "cells": [
  {
   "cell_type": "code",
   "execution_count": 2,
   "id": "4620e83b-1acf-48db-8d87-e6a5e09fcde2",
   "metadata": {},
   "outputs": [],
   "source": [
    "import pandas as pd\n",
    "import SDSSdownload as sd\n",
    "import glob\n",
    "\n",
    "# astropy will yell about deprecated FITS stuff, as usual\n",
    "import warnings\n",
    "warnings.filterwarnings(\"ignore\")\n",
    "\n",
    "import os\n",
    "if not os.path.exists('downloaded_galaxies.txt'):\n",
    "    with open('downloaded_galaxies.txt', \"x\") as txt:\n",
    "        txt.write(\"#JID,objID,on_plate\\n\")"
   ]
  },
  {
   "cell_type": "code",
   "execution_count": 3,
   "id": "6c7ab914-d55a-49f8-b146-6e530fa8a6a7",
   "metadata": {},
   "outputs": [],
   "source": [
    "cat = pd.read_csv(\"NairAbrahamMorphology.cat\", delim_whitespace=True)\n",
    "sdss_cat_path = 'SDSS_query.csv'\n",
    "sdss_cat = pd.read_csv(sdss_cat_path)"
   ]
  },
  {
   "cell_type": "code",
   "execution_count": 5,
   "id": "09d33c96-bde4-4f5b-9587-129b1950f05f",
   "metadata": {},
   "outputs": [
    {
     "name": "stdout",
     "output_type": "stream",
     "text": [
      "1000 2000\n"
     ]
    }
   ],
   "source": [
    "a = 0 # starting index\n",
    "b = len(glob.glob('./data/*/')) # number of galaxies downloaded\n",
    "c = 1000 # number to download\n",
    "start_index = a+b\n",
    "end_index = a+b+c\n",
    "print(a+b,a+b+c)"
   ]
  },
  {
   "cell_type": "code",
   "execution_count": null,
   "id": "9b47dc48-7c23-4a42-b704-f8c6cdc4c9df",
   "metadata": {},
   "outputs": [],
   "source": [
    "new_cat = cat.iloc[start_index:end_index]\n",
    "\n",
    "# For this each of these, we'll download just the i, r, and g filters\n",
    "bands = ['i','r','g']\n",
    "\n",
    "for JID, ra, dec, p90, z in zip(new_cat['#JID'], new_cat.RA, new_cat.DEC, new_cat.Rp90_g, new_cat.z):\n",
    "    # Download and make cutouts\n",
    "    dl = sd.Image(ra=ra, dec=dec, bands=bands, df_path=sdss_cat_path)\n",
    "    size = sd.size_from_z(p90, z)\n",
    "    dl.cutout(size=size)\n",
    "\n",
    "    # Make B&W images for each band\n",
    "    for band in bands:\n",
    "        dl.save_plot(band=band)\n",
    "\n",
    "    # Make a color image\n",
    "    dl.save_cutout_color(red='i', green='r', blue='g')\n",
    "\n",
    "    # Append text file with values\n",
    "    with open('downloaded_galaxies.txt', 'a') as txt:\n",
    "        txt.write(f\"{JID}, {dl.objid}, {dl.on_plate}\\n\")"
   ]
  },
  {
   "cell_type": "code",
   "execution_count": null,
   "id": "1674fe4c-b0c3-4546-bd17-72e8c4d48bab",
   "metadata": {},
   "outputs": [],
   "source": []
  }
 ],
 "metadata": {
  "kernelspec": {
   "display_name": "Python 3 (ipykernel)",
   "language": "python",
   "name": "python3"
  },
  "language_info": {
   "codemirror_mode": {
    "name": "ipython",
    "version": 3
   },
   "file_extension": ".py",
   "mimetype": "text/x-python",
   "name": "python",
   "nbconvert_exporter": "python",
   "pygments_lexer": "ipython3",
   "version": "3.11.7"
  }
 },
 "nbformat": 4,
 "nbformat_minor": 5
}
